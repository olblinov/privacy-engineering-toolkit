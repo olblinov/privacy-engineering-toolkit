{
 "cells": [
  {
   "cell_type": "code",
   "execution_count": 3,
   "metadata": {},
   "outputs": [],
   "source": [
    "import pandas as pd\n",
    "import json"
   ]
  },
  {
   "cell_type": "markdown",
   "metadata": {},
   "source": [
    "# Dataset"
   ]
  },
  {
   "cell_type": "code",
   "execution_count": 38,
   "metadata": {},
   "outputs": [
    {
     "data": {
      "text/html": [
       "<div>\n",
       "<style scoped>\n",
       "    .dataframe tbody tr th:only-of-type {\n",
       "        vertical-align: middle;\n",
       "    }\n",
       "\n",
       "    .dataframe tbody tr th {\n",
       "        vertical-align: top;\n",
       "    }\n",
       "\n",
       "    .dataframe thead th {\n",
       "        text-align: right;\n",
       "    }\n",
       "</style>\n",
       "<table border=\"1\" class=\"dataframe\">\n",
       "  <thead>\n",
       "    <tr style=\"text-align: right;\">\n",
       "      <th></th>\n",
       "      <th>name</th>\n",
       "      <th>sex</th>\n",
       "      <th>age</th>\n",
       "      <th>maritalStatus</th>\n",
       "      <th>hasChildren</th>\n",
       "      <th>highestEducationLevel</th>\n",
       "      <th>sourceOfStress</th>\n",
       "      <th>smoker</th>\n",
       "      <th>optimism</th>\n",
       "      <th>lifeSatisfaction</th>\n",
       "      <th>selfEsteem</th>\n",
       "    </tr>\n",
       "  </thead>\n",
       "  <tbody>\n",
       "    <tr>\n",
       "      <th>0</th>\n",
       "      <td>Ariel Lucero</td>\n",
       "      <td>2</td>\n",
       "      <td>21</td>\n",
       "      <td>1</td>\n",
       "      <td>2</td>\n",
       "      <td>5</td>\n",
       "      <td>1</td>\n",
       "      <td>2</td>\n",
       "      <td>19</td>\n",
       "      <td>20</td>\n",
       "      <td>31</td>\n",
       "    </tr>\n",
       "    <tr>\n",
       "      <th>1</th>\n",
       "      <td>Sienna Shah</td>\n",
       "      <td>2</td>\n",
       "      <td>42</td>\n",
       "      <td>4</td>\n",
       "      <td>1</td>\n",
       "      <td>2</td>\n",
       "      <td>5</td>\n",
       "      <td>2</td>\n",
       "      <td>23</td>\n",
       "      <td>26</td>\n",
       "      <td>33</td>\n",
       "    </tr>\n",
       "    <tr>\n",
       "      <th>2</th>\n",
       "      <td>Denzel Crawford</td>\n",
       "      <td>2</td>\n",
       "      <td>47</td>\n",
       "      <td>4</td>\n",
       "      <td>1</td>\n",
       "      <td>2</td>\n",
       "      <td>4</td>\n",
       "      <td>2</td>\n",
       "      <td>24</td>\n",
       "      <td>27</td>\n",
       "      <td>36</td>\n",
       "    </tr>\n",
       "    <tr>\n",
       "      <th>3</th>\n",
       "      <td>Emelia Norman</td>\n",
       "      <td>2</td>\n",
       "      <td>48</td>\n",
       "      <td>4</td>\n",
       "      <td>2</td>\n",
       "      <td>3</td>\n",
       "      <td>3</td>\n",
       "      <td>2</td>\n",
       "      <td>30</td>\n",
       "      <td>22</td>\n",
       "      <td>40</td>\n",
       "    </tr>\n",
       "    <tr>\n",
       "      <th>4</th>\n",
       "      <td>Abigail Koch</td>\n",
       "      <td>2</td>\n",
       "      <td>41</td>\n",
       "      <td>7</td>\n",
       "      <td>1</td>\n",
       "      <td>6</td>\n",
       "      <td>1</td>\n",
       "      <td>2</td>\n",
       "      <td>21</td>\n",
       "      <td>21</td>\n",
       "      <td>35</td>\n",
       "    </tr>\n",
       "  </tbody>\n",
       "</table>\n",
       "</div>"
      ],
      "text/plain": [
       "              name  sex  age  maritalStatus hasChildren  \\\n",
       "0     Ariel Lucero    2   21              1           2   \n",
       "1      Sienna Shah    2   42              4           1   \n",
       "2  Denzel Crawford    2   47              4           1   \n",
       "3    Emelia Norman    2   48              4           2   \n",
       "4     Abigail Koch    2   41              7           1   \n",
       "\n",
       "   highestEducationLevel sourceOfStress smoker optimism lifeSatisfaction  \\\n",
       "0                      5              1      2       19               20   \n",
       "1                      2              5      2       23               26   \n",
       "2                      2              4      2       24               27   \n",
       "3                      3              3      2       30               22   \n",
       "4                      6              1      2       21               21   \n",
       "\n",
       "  selfEsteem  \n",
       "0         31  \n",
       "1         33  \n",
       "2         36  \n",
       "3         40  \n",
       "4         35  "
      ]
     },
     "execution_count": 38,
     "metadata": {},
     "output_type": "execute_result"
    }
   ],
   "source": [
    "dataset_path = \"../../../assets/datasets/teacher_survey.csv\"\n",
    "df = pd.read_csv(dataset_path)\n",
    "df.columns = ['name',\n",
    "              'sex',\n",
    "              'age',\n",
    "              'maritalStatus',\n",
    "              'hasChildren',\n",
    "              'highestEducationLevel',\n",
    "              'sourceOfStress',\n",
    "              'smoker',\n",
    "              'optimism',\n",
    "              'lifeSatisfaction',\n",
    "              'selfEsteem']\n",
    "df.head()"
   ]
  },
  {
   "cell_type": "markdown",
   "metadata": {},
   "source": [
    "# Definitions\n",
    "\n",
    "**Unit of privacy** - often referred to as an \"individual\" or \"participant,\" depending on the context. It's the smallest unit of data about which privacy is preserved. For example, in a dataset of users, the unit of privacy would be the data pertaining to a single user. Differential privacy mechanisms ensure that the privacy of each individual unit is protected, making it difficult to infer information about any specific individual from the aggregated data or analysis results.\n",
    "\n",
    "**Privacy parameter / ϵ (epsilon)** - quantifies the level of privacy or the privacy loss of a mechanism. A smaller ϵ value indicates stronger privacy guarantees, meaning the output of the differential privacy mechanism is less dependent on any single individual's data. Conversely, a larger ϵ suggests weaker privacy protections. This parameter controls the trade-off between privacy and accuracy in the data analysis or query results. A common rule-of-thumb is to limit your overall ϵ spend to 1.0. \n",
    "\n",
    "**Measurement** - randomized function that takes a dataset and returns a differentially private release.\n",
    "\n",
    "**Transformations** - how we compute statistical summaries in a way that can be privatized."
   ]
  },
  {
   "cell_type": "code",
   "execution_count": 19,
   "metadata": {},
   "outputs": [],
   "source": [
    "max_contributions = 1 # Unit of privacy"
   ]
  },
  {
   "cell_type": "markdown",
   "metadata": {},
   "source": [
    "# Processing"
   ]
  },
  {
   "cell_type": "markdown",
   "metadata": {},
   "source": [
    "## Transformation"
   ]
  },
  {
   "cell_type": "code",
   "execution_count": 60,
   "metadata": {},
   "outputs": [],
   "source": [
    "from opendp.transformations import make_split_dataframe, make_select_column, then_cast, then_impute_constant, then_clamp, then_sum, then_mean, then_resize\n",
    "from opendp.measurements import then_laplace\n",
    "from opendp.mod import enable_features\n",
    "enable_features(\"contrib\")"
   ]
  },
  {
   "cell_type": "code",
   "execution_count": 52,
   "metadata": {},
   "outputs": [
    {
     "data": {
      "text/plain": [
       "[45.0, 21.0, 42.0, 47.0, 48.0, 41.0]"
      ]
     },
     "execution_count": 52,
     "metadata": {},
     "output_type": "execute_result"
    }
   ],
   "source": [
    "age_transf = (\n",
    "    make_split_dataframe(separator=\",\", col_names=df.columns.tolist())  >>\n",
    "    make_select_column(\"age\", str) >>\n",
    "    then_cast(TOA=float) >>\n",
    "    then_impute_constant(0.0)\n",
    ") # select age column, vectorize, cast from str to float\n",
    "\n",
    "age_processed = age_transf(open(dataset_path).read())\n",
    "age_processed[:6]"
   ]
  },
  {
   "cell_type": "markdown",
   "metadata": {},
   "source": [
    "## Measurement"
   ]
  },
  {
   "cell_type": "code",
   "execution_count": 91,
   "metadata": {},
   "outputs": [
    {
     "name": "stdout",
     "output_type": "stream",
     "text": [
      "37.36648092584655\n"
     ]
    }
   ],
   "source": [
    "# Count mean age without privacy protection\n",
    "non_private_mean = (\n",
    "    age_transf >> \n",
    "    then_clamp(bounds=(18.0,70.0)) >> \n",
    "    then_resize(size=len(df), constant=20.) >> \n",
    "    then_mean()\n",
    ")\n",
    "\n",
    "print(non_private_mean(open(dataset_path).read()))"
   ]
  },
  {
   "cell_type": "code",
   "execution_count": 114,
   "metadata": {},
   "outputs": [
    {
     "name": "stdout",
     "output_type": "stream",
     "text": [
      "38.290615457381\n"
     ]
    }
   ],
   "source": [
    "sensitivity = 1\n",
    "epsilon = 1.1\n",
    "\n",
    "# Add noise to query result for DP protection\n",
    "private_mean = (\n",
    "    age_transf >> \n",
    "    then_clamp(bounds=(18.0,70.0)) >> \n",
    "    then_resize(size=len(df), constant=20.) >> \n",
    "    then_mean() >>\n",
    "    then_laplace(scale=(sensitivity / epsilon)) # adding noise to result to make if DP. Higher scale == more privacy & less accuracy\n",
    ")\n",
    "\n",
    "print(private_mean(open(dataset_path).read()))"
   ]
  }
 ],
 "metadata": {
  "kernelspec": {
   "display_name": ".venv",
   "language": "python",
   "name": "python3"
  },
  "language_info": {
   "codemirror_mode": {
    "name": "ipython",
    "version": 3
   },
   "file_extension": ".py",
   "mimetype": "text/x-python",
   "name": "python",
   "nbconvert_exporter": "python",
   "pygments_lexer": "ipython3",
   "version": "3.9.6"
  }
 },
 "nbformat": 4,
 "nbformat_minor": 2
}
