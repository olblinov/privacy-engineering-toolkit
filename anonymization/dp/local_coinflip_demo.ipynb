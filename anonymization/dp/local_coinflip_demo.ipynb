{
 "cells": [
  {
   "cell_type": "code",
   "execution_count": 12,
   "metadata": {},
   "outputs": [],
   "source": [
    "import numpy as np"
   ]
  },
  {
   "cell_type": "markdown",
   "metadata": {},
   "source": [
    "# Generating noisy data"
   ]
  },
  {
   "cell_type": "code",
   "execution_count": 41,
   "metadata": {},
   "outputs": [
    {
     "name": "stdout",
     "output_type": "stream",
     "text": [
      "DEBUG: Actual data\n",
      "Result: True\n"
     ]
    }
   ],
   "source": [
    "import random\n",
    "\n",
    "def traffic_signal_answer(truth_value, heads_probability, silent=False):\n",
    "    first_coin = 'heads' if random.random() < heads_probability else 'tails'\n",
    "    \n",
    "    if first_coin == 'heads':\n",
    "        if not silent: print(\"DEBUG: Actual data\")\n",
    "        return truth_value\n",
    "    else:\n",
    "        if not silent: print(\"DEBUG: Noise\")\n",
    "        second_coin = random.choice(['heads', 'tails'])\n",
    "        if second_coin == 'heads':\n",
    "            return True\n",
    "        else:\n",
    "            return False\n",
    "\n",
    "# Example usage:\n",
    "truth_value = True  # Assuming the truth value is True, meaning the individual skipped the traffic signal\n",
    "heads_probability = 0.3  # Probability of the first coin landing on heads\n",
    "result = traffic_signal_answer(truth_value, heads_probability)\n",
    "print(\"Result:\", result)  # This will print 1 or 0 based on the rules described\n"
   ]
  },
  {
   "cell_type": "markdown",
   "metadata": {},
   "source": [
    "# Full cycle"
   ]
  },
  {
   "cell_type": "markdown",
   "metadata": {},
   "source": [
    "## Generating much noisy data"
   ]
  },
  {
   "cell_type": "markdown",
   "metadata": {},
   "source": [
    "### Traffic light data"
   ]
  },
  {
   "cell_type": "code",
   "execution_count": 3,
   "metadata": {},
   "outputs": [
    {
     "name": "stdout",
     "output_type": "stream",
     "text": [
      "Ratio of No to Yes events: 5.0\n"
     ]
    }
   ],
   "source": [
    "yes_events = 10000\n",
    "no_events = 50000\n",
    "\n",
    "real_data = np.concatenate(\n",
    "    (\n",
    "        [True] * yes_events,\n",
    "        [False] * no_events\n",
    "    )\n",
    ") # True events: 10k Yes; 50k No\n",
    "\n",
    "print(\"Ratio of No to Yes events:\", no_events/yes_events)"
   ]
  },
  {
   "cell_type": "code",
   "execution_count": 4,
   "metadata": {},
   "outputs": [
    {
     "name": "stdout",
     "output_type": "stream",
     "text": [
      "REAL DATA\n",
      "================\n",
      "Shape of dataset: (60000,)\n",
      "First 6 elements: [False False False False  True  True]\n"
     ]
    }
   ],
   "source": [
    "np.random.shuffle(real_data)\n",
    "print(\"REAL DATA\")\n",
    "print(\"================\")\n",
    "print(\"Shape of dataset:\", real_data.shape)\n",
    "print(\"First 6 elements:\",real_data[0:6])"
   ]
  },
  {
   "cell_type": "markdown",
   "metadata": {},
   "source": [
    "### Adding noise to data"
   ]
  },
  {
   "cell_type": "code",
   "execution_count": 5,
   "metadata": {},
   "outputs": [],
   "source": [
    "noisy_data = []\n",
    "heads_probability = 0.5\n",
    "\n",
    "for data_point in real_data:\n",
    "    noisy_data.append(traffic_signal_answer(data_point, heads_probability, silent=True))"
   ]
  },
  {
   "cell_type": "code",
   "execution_count": 6,
   "metadata": {},
   "outputs": [
    {
     "name": "stdout",
     "output_type": "stream",
     "text": [
      "NOISY DATA\n",
      "================\n",
      "Shape of dataset: 60000\n",
      "First 6 elements: [False, True, False, False, True, False]\n"
     ]
    }
   ],
   "source": [
    "print(\"NOISY DATA\")\n",
    "print(\"================\")\n",
    "print(\"Shape of dataset:\", len(noisy_data))\n",
    "print(\"First 6 elements:\",noisy_data[0:6])"
   ]
  },
  {
   "cell_type": "markdown",
   "metadata": {},
   "source": [
    "## Removing noise from the data"
   ]
  },
  {
   "cell_type": "code",
   "execution_count": 7,
   "metadata": {},
   "outputs": [
    {
     "name": "stdout",
     "output_type": "stream",
     "text": [
      "Initial True count: 19938\n",
      "Initial False count: 40062\n"
     ]
    }
   ],
   "source": [
    "count_noisy_yes = 0\n",
    "count_noisy_no = 0\n",
    "\n",
    "for data_point in noisy_data:\n",
    "    if data_point: count_noisy_yes += 1\n",
    "    if not data_point: count_noisy_no += 1\n",
    "\n",
    "print(\"Initial True count:\", count_noisy_yes)\n",
    "print(\"Initial False count:\", count_noisy_no)"
   ]
  },
  {
   "cell_type": "code",
   "execution_count": 8,
   "metadata": {},
   "outputs": [
    {
     "name": "stdout",
     "output_type": "stream",
     "text": [
      "30000.0\n"
     ]
    }
   ],
   "source": [
    "n_random_answers = len(noisy_data) * (1-heads_probability)\n",
    "print(n_random_answers)"
   ]
  },
  {
   "cell_type": "code",
   "execution_count": 9,
   "metadata": {},
   "outputs": [
    {
     "name": "stdout",
     "output_type": "stream",
     "text": [
      "Adjusted True count: 4938\n",
      "Adjusted False count: 25062\n"
     ]
    }
   ],
   "source": [
    "denoised_yes = int( count_noisy_yes - n_random_answers / 2 )\n",
    "denoised_no = int( count_noisy_no - n_random_answers / 2 )\n",
    "\n",
    "print(\"Adjusted True count:\", denoised_yes)\n",
    "print(\"Adjusted False count:\", denoised_no)"
   ]
  },
  {
   "cell_type": "markdown",
   "metadata": {},
   "source": [
    "# Calculating error"
   ]
  },
  {
   "cell_type": "code",
   "execution_count": 10,
   "metadata": {},
   "outputs": [
    {
     "name": "stdout",
     "output_type": "stream",
     "text": [
      "Ratio of predicted No to Yes events: 5.075334143377885\n"
     ]
    }
   ],
   "source": [
    "estimated_no_to_yes_ratio = denoised_no / denoised_yes\n",
    "\n",
    "print(\"Ratio of predicted No to Yes events:\", estimated_no_to_yes_ratio)"
   ]
  },
  {
   "cell_type": "code",
   "execution_count": 11,
   "metadata": {},
   "outputs": [
    {
     "name": "stdout",
     "output_type": "stream",
     "text": [
      "Error: 1.51%\n"
     ]
    }
   ],
   "source": [
    "def calculate_error(original, prediction):\n",
    "    error = abs(original - prediction)\n",
    "    error_percentage = (error / original) * 100\n",
    "    return error_percentage\n",
    "\n",
    "original_result = no_events/yes_events\n",
    "prediction_result = estimated_no_to_yes_ratio\n",
    "  \n",
    "error_percentage = calculate_error(original_result, prediction_result)\n",
    "formatted_error_percentage = \"{:.2f}%\".format(error_percentage)\n",
    "print(\"Error:\", formatted_error_percentage)"
   ]
  }
 ],
 "metadata": {
  "kernelspec": {
   "display_name": ".venv",
   "language": "python",
   "name": "python3"
  },
  "language_info": {
   "codemirror_mode": {
    "name": "ipython",
    "version": 3
   },
   "file_extension": ".py",
   "mimetype": "text/x-python",
   "name": "python",
   "nbconvert_exporter": "python",
   "pygments_lexer": "ipython3",
   "version": "3.9.6"
  }
 },
 "nbformat": 4,
 "nbformat_minor": 2
}
