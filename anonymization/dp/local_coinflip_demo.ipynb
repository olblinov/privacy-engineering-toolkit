{
 "cells": [
  {
   "cell_type": "code",
   "execution_count": 208,
   "metadata": {},
   "outputs": [],
   "source": [
    "import numpy as np"
   ]
  },
  {
   "cell_type": "markdown",
   "metadata": {},
   "source": [
    "# Generating noisy data"
   ]
  },
  {
   "cell_type": "code",
   "execution_count": 209,
   "metadata": {},
   "outputs": [
    {
     "name": "stdout",
     "output_type": "stream",
     "text": [
      "DEBUG: Noise\n",
      "Result: True\n"
     ]
    }
   ],
   "source": [
    "import random\n",
    "\n",
    "def traffic_signal_answer(truth_value, heads_probability, silent=False):\n",
    "    first_coin = 'heads' if random.random() < heads_probability else 'tails'\n",
    "    \n",
    "    if first_coin == 'heads':\n",
    "        if not silent: print(\"DEBUG: Actual data\")\n",
    "        return truth_value\n",
    "    else:\n",
    "        if not silent: print(\"DEBUG: Noise\")\n",
    "        second_coin = random.choice(['heads', 'tails'])\n",
    "        if second_coin == 'heads':\n",
    "            return True\n",
    "        else:\n",
    "            return False\n",
    "\n",
    "# Example usage:\n",
    "truth_value = True  # Assuming the truth value is True, meaning the individual skipped the traffic signal\n",
    "heads_probability = 0.3  # Probability of the first coin landing on heads\n",
    "result = traffic_signal_answer(truth_value, heads_probability)\n",
    "print(\"Result:\", result)  # This will print 1 or 0 based on the rules described\n"
   ]
  },
  {
   "cell_type": "markdown",
   "metadata": {},
   "source": [
    "# Full cycle"
   ]
  },
  {
   "cell_type": "markdown",
   "metadata": {},
   "source": [
    "## Generating much noisy data"
   ]
  },
  {
   "cell_type": "markdown",
   "metadata": {},
   "source": [
    "### Traffic light data"
   ]
  },
  {
   "cell_type": "code",
   "execution_count": 210,
   "metadata": {},
   "outputs": [
    {
     "name": "stdout",
     "output_type": "stream",
     "text": [
      "Ratio of No to Yes events: 5.0\n"
     ]
    }
   ],
   "source": [
    "true_events = 10000\n",
    "false_events = 50000\n",
    "\n",
    "true_data = np.concatenate(\n",
    "    (\n",
    "        [True] * true_events,\n",
    "        [False] * false_events\n",
    "    )\n",
    ") # True events: 10k Yes; 50k No\n",
    "\n",
    "print(\"Ratio of No to Yes events:\", false_events/true_events)"
   ]
  },
  {
   "cell_type": "code",
   "execution_count": 211,
   "metadata": {},
   "outputs": [
    {
     "name": "stdout",
     "output_type": "stream",
     "text": [
      "TRUE DATA\n",
      "================\n",
      "Shape of dataset: (60000,)\n",
      "First 6 elements: [ True False False False False  True]\n"
     ]
    }
   ],
   "source": [
    "np.random.shuffle(true_data)\n",
    "print(\"TRUE DATA\")\n",
    "print(\"================\")\n",
    "print(\"Shape of dataset:\", true_data.shape)\n",
    "print(\"First 6 elements:\",true_data[0:6])"
   ]
  },
  {
   "cell_type": "markdown",
   "metadata": {},
   "source": [
    "### Adding noise to data"
   ]
  },
  {
   "cell_type": "code",
   "execution_count": 212,
   "metadata": {},
   "outputs": [],
   "source": [
    "noisy_data = []\n",
    "heads_probability = 0.3\n",
    "\n",
    "for data_point in true_data:\n",
    "    noisy_data.append(traffic_signal_answer(data_point, heads_probability, silent=True))"
   ]
  },
  {
   "cell_type": "code",
   "execution_count": 213,
   "metadata": {},
   "outputs": [
    {
     "name": "stdout",
     "output_type": "stream",
     "text": [
      "NOISY DATA\n",
      "================\n",
      "Shape of dataset: 60000\n",
      "First 6 elements: [False, False, True, True, True, True]\n"
     ]
    }
   ],
   "source": [
    "print(\"NOISY DATA\")\n",
    "print(\"================\")\n",
    "print(\"Shape of dataset:\", len(noisy_data))\n",
    "print(\"First 6 elements:\",noisy_data[0:6])"
   ]
  },
  {
   "cell_type": "markdown",
   "metadata": {},
   "source": [
    "## Removing noise from the data"
   ]
  },
  {
   "cell_type": "code",
   "execution_count": 214,
   "metadata": {},
   "outputs": [
    {
     "name": "stdout",
     "output_type": "stream",
     "text": [
      "Initial True count: 24037\n",
      "Initial False count: 35963\n"
     ]
    }
   ],
   "source": [
    "count_true = 0\n",
    "count_false = 0\n",
    "\n",
    "for data_point in noisy_data:\n",
    "    if data_point: count_true += 1\n",
    "    if not data_point: count_false += 1\n",
    "\n",
    "print(\"Initial True count:\", count_true)\n",
    "print(\"Initial False count:\", count_false)"
   ]
  },
  {
   "cell_type": "code",
   "execution_count": 215,
   "metadata": {},
   "outputs": [
    {
     "name": "stdout",
     "output_type": "stream",
     "text": [
      "42000.0\n"
     ]
    }
   ],
   "source": [
    "n_random_answers = len(noisy_data) * (1-heads_probability)\n",
    "print(n_random_answers)"
   ]
  },
  {
   "cell_type": "code",
   "execution_count": 216,
   "metadata": {},
   "outputs": [
    {
     "name": "stdout",
     "output_type": "stream",
     "text": [
      "Adjusted True count: 3037.0\n",
      "Adjusted False count: 14963.0\n"
     ]
    }
   ],
   "source": [
    "count_true = count_true - n_random_answers / 2\n",
    "count_false = count_false - n_random_answers / 2\n",
    "\n",
    "print(\"Adjusted True count:\", count_true)\n",
    "print(\"Adjusted False count:\", count_false)"
   ]
  },
  {
   "cell_type": "markdown",
   "metadata": {},
   "source": [
    "# Calculating error"
   ]
  },
  {
   "cell_type": "code",
   "execution_count": 217,
   "metadata": {},
   "outputs": [
    {
     "name": "stdout",
     "output_type": "stream",
     "text": [
      "Ratio of predicted No to Yes events: 4.926901547579848\n"
     ]
    }
   ],
   "source": [
    "false_to_true_ratio = count_false / count_true\n",
    "\n",
    "print(\"Ratio of predicted No to Yes events:\", false_to_true_ratio)"
   ]
  },
  {
   "cell_type": "code",
   "execution_count": 218,
   "metadata": {},
   "outputs": [
    {
     "name": "stdout",
     "output_type": "stream",
     "text": [
      "Error percentage: 1.46%\n"
     ]
    }
   ],
   "source": [
    "def calculate_error(original, prediction):\n",
    "    error = abs(original - prediction)\n",
    "    error_percentage = (error / original) * 100\n",
    "    return error_percentage\n",
    "\n",
    "original_result = false_events/true_events\n",
    "prediction_result = false_to_true_ratio\n",
    "  \n",
    "error_percentage = calculate_error(original_result, prediction_result)\n",
    "formatted_error_percentage = \"{:.2f}%\".format(error_percentage)\n",
    "print(\"Error:\", formatted_error_percentage)"
   ]
  }
 ],
 "metadata": {
  "kernelspec": {
   "display_name": ".venv",
   "language": "python",
   "name": "python3"
  },
  "language_info": {
   "codemirror_mode": {
    "name": "ipython",
    "version": 3
   },
   "file_extension": ".py",
   "mimetype": "text/x-python",
   "name": "python",
   "nbconvert_exporter": "python",
   "pygments_lexer": "ipython3",
   "version": "3.9.0"
  }
 },
 "nbformat": 4,
 "nbformat_minor": 2
}
