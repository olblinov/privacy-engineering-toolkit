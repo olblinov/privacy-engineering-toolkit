{
 "cells": [
  {
   "cell_type": "code",
   "execution_count": null,
   "metadata": {},
   "outputs": [],
   "source": [
    "%%capture\n",
    "!pip install presidio_analyzer presidio_anonymizer"
   ]
  },
  {
   "cell_type": "code",
   "execution_count": null,
   "metadata": {},
   "outputs": [],
   "source": [
    "from presidio_analyzer import AnalyzerEngine, BatchAnalyzerEngine, RecognizerResult\n",
    "# from presidio_anonymizer import AnonymizerEngine"
   ]
  },
  {
   "cell_type": "markdown",
   "metadata": {},
   "source": [
    "# Simple example"
   ]
  },
  {
   "cell_type": "code",
   "execution_count": 3,
   "metadata": {},
   "outputs": [],
   "source": [
    "text=\"My phone number is 212-555-5555\""
   ]
  },
  {
   "cell_type": "code",
   "execution_count": 4,
   "metadata": {},
   "outputs": [],
   "source": [
    "analyzer = AnalyzerEngine()"
   ]
  },
  {
   "cell_type": "code",
   "execution_count": 5,
   "metadata": {},
   "outputs": [
    {
     "name": "stdout",
     "output_type": "stream",
     "text": [
      "[type: PHONE_NUMBER, start: 19, end: 31, score: 0.75]\n"
     ]
    }
   ],
   "source": [
    "results = analyzer.analyze(text=text,\n",
    "                           entities=[\"PHONE_NUMBER\"],\n",
    "                           language='en')\n",
    "print(results)"
   ]
  },
  {
   "cell_type": "markdown",
   "metadata": {},
   "source": [
    "# Recognize column types in csv"
   ]
  },
  {
   "cell_type": "code",
   "execution_count": 6,
   "metadata": {},
   "outputs": [
    {
     "data": {
      "text/html": [
       "<div>\n",
       "<style scoped>\n",
       "    .dataframe tbody tr th:only-of-type {\n",
       "        vertical-align: middle;\n",
       "    }\n",
       "\n",
       "    .dataframe tbody tr th {\n",
       "        vertical-align: top;\n",
       "    }\n",
       "\n",
       "    .dataframe thead th {\n",
       "        text-align: right;\n",
       "    }\n",
       "</style>\n",
       "<table border=\"1\" class=\"dataframe\">\n",
       "  <thead>\n",
       "    <tr style=\"text-align: right;\">\n",
       "      <th></th>\n",
       "      <th>order_number</th>\n",
       "      <th>user_id</th>\n",
       "      <th>email</th>\n",
       "      <th>street_address</th>\n",
       "      <th>city</th>\n",
       "      <th>state</th>\n",
       "      <th>num_items</th>\n",
       "      <th>total_price</th>\n",
       "      <th>timestamp</th>\n",
       "    </tr>\n",
       "  </thead>\n",
       "  <tbody>\n",
       "    <tr>\n",
       "      <th>0</th>\n",
       "      <td>754</td>\n",
       "      <td>roy50</td>\n",
       "      <td>margaretwalker@example.com</td>\n",
       "      <td>8222 Jared Plains Suite 489</td>\n",
       "      <td>Millerfurt</td>\n",
       "      <td>Delaware</td>\n",
       "      <td>4</td>\n",
       "      <td>162</td>\n",
       "      <td>2022-07-31T13:53:42.176704</td>\n",
       "    </tr>\n",
       "    <tr>\n",
       "      <th>1</th>\n",
       "      <td>371</td>\n",
       "      <td>handerson</td>\n",
       "      <td>james63@example.org</td>\n",
       "      <td>39972 Isabella Haven Suite 670</td>\n",
       "      <td>Farrellport</td>\n",
       "      <td>Oklahoma</td>\n",
       "      <td>3</td>\n",
       "      <td>42</td>\n",
       "      <td>2022-08-03T17:54:12.176704</td>\n",
       "    </tr>\n",
       "    <tr>\n",
       "      <th>2</th>\n",
       "      <td>376</td>\n",
       "      <td>william55</td>\n",
       "      <td>sotopatricia@example.net</td>\n",
       "      <td>4418 Raymond Club</td>\n",
       "      <td>West Andreafort</td>\n",
       "      <td>Illinois</td>\n",
       "      <td>8</td>\n",
       "      <td>198</td>\n",
       "      <td>2022-08-05T18:54:45.176704</td>\n",
       "    </tr>\n",
       "    <tr>\n",
       "      <th>3</th>\n",
       "      <td>431</td>\n",
       "      <td>uking</td>\n",
       "      <td>cponce@example.com</td>\n",
       "      <td>369 Angela Green Suite 649</td>\n",
       "      <td>Whitemouth</td>\n",
       "      <td>Tennessee</td>\n",
       "      <td>6</td>\n",
       "      <td>90</td>\n",
       "      <td>2022-08-06T20:55:01.176704</td>\n",
       "    </tr>\n",
       "    <tr>\n",
       "      <th>4</th>\n",
       "      <td>713</td>\n",
       "      <td>tiffany94</td>\n",
       "      <td>kingelizabeth@example.net</td>\n",
       "      <td>3030 Kerr Streets Apt. 695</td>\n",
       "      <td>Hamptonhaven</td>\n",
       "      <td>Indiana</td>\n",
       "      <td>5</td>\n",
       "      <td>62</td>\n",
       "      <td>2022-08-09T22:55:50.176704</td>\n",
       "    </tr>\n",
       "  </tbody>\n",
       "</table>\n",
       "</div>"
      ],
      "text/plain": [
       "   order_number    user_id                       email  \\\n",
       "0           754      roy50  margaretwalker@example.com   \n",
       "1           371  handerson         james63@example.org   \n",
       "2           376  william55    sotopatricia@example.net   \n",
       "3           431      uking          cponce@example.com   \n",
       "4           713  tiffany94   kingelizabeth@example.net   \n",
       "\n",
       "                   street_address             city      state  num_items  \\\n",
       "0     8222 Jared Plains Suite 489       Millerfurt   Delaware          4   \n",
       "1  39972 Isabella Haven Suite 670      Farrellport   Oklahoma          3   \n",
       "2               4418 Raymond Club  West Andreafort   Illinois          8   \n",
       "3      369 Angela Green Suite 649       Whitemouth  Tennessee          6   \n",
       "4      3030 Kerr Streets Apt. 695     Hamptonhaven    Indiana          5   \n",
       "\n",
       "   total_price                   timestamp  \n",
       "0          162  2022-07-31T13:53:42.176704  \n",
       "1           42  2022-08-03T17:54:12.176704  \n",
       "2          198  2022-08-05T18:54:45.176704  \n",
       "3           90  2022-08-06T20:55:01.176704  \n",
       "4           62  2022-08-09T22:55:50.176704  "
      ]
     },
     "execution_count": 6,
     "metadata": {},
     "output_type": "execute_result"
    }
   ],
   "source": [
    "data_file_path = \"../data/orders.csv\"\n",
    "import pandas as pd\n",
    "df = pd.read_csv(data_file_path, nrows=100)\n",
    "df.head()"
   ]
  },
  {
   "cell_type": "markdown",
   "metadata": {},
   "source": [
    "## Experiment 1: Per-column recognition"
   ]
  },
  {
   "cell_type": "code",
   "execution_count": 7,
   "metadata": {},
   "outputs": [],
   "source": [
    "import csv\n",
    "\n",
    "def csv_to_dict(file_path, rows=100):\n",
    "    data_dict = {}\n",
    "    with open(file_path, 'r') as file:\n",
    "        reader = csv.DictReader(file)\n",
    "        count = 0\n",
    "        for row in reader:\n",
    "            if count >= rows:\n",
    "                break\n",
    "            for key, value in row.items():\n",
    "                if key not in data_dict:\n",
    "                    data_dict[key] = []\n",
    "                data_dict[key].append(value)\n",
    "            count += 1\n",
    "    return data_dict\n",
    "\n",
    "file_path = data_file_path\n",
    "result = csv_to_dict(file_path)"
   ]
  },
  {
   "cell_type": "code",
   "execution_count": 8,
   "metadata": {},
   "outputs": [],
   "source": [
    "analyzer = AnalyzerEngine()\n",
    "batch_analyzer = BatchAnalyzerEngine(analyzer_engine=analyzer)"
   ]
  },
  {
   "cell_type": "code",
   "execution_count": 9,
   "metadata": {},
   "outputs": [],
   "source": [
    "analyzer_results = batch_analyzer.analyze_dict(result, language=\"en\")\n",
    "analyzer_results = list(analyzer_results)"
   ]
  },
  {
   "cell_type": "code",
   "execution_count": 11,
   "metadata": {},
   "outputs": [],
   "source": [
    "result_data = {}\n",
    "\n",
    "for entry in analyzer_results:\n",
    "    result_data[entry.key]={}\n",
    "    type_counts = {}\n",
    "    total_entries = len(entry.recognizer_results)\n",
    "\n",
    "    for element in entry.recognizer_results:\n",
    "        if len(element)!=0:\n",
    "            type_value = element[0].entity_type\n",
    "            type_counts[type_value] = type_counts.get(type_value, 0) + 1\n",
    "        else:\n",
    "            type_counts['NONE'] = type_counts.get(\"NONE\", 0) + 1\n",
    "\n",
    "    percentage_per_type = {type_value: (count / total_entries) * 100 for type_value, count in type_counts.items()}\n",
    "\n",
    "    for type_value, percentage in percentage_per_type.items():\n",
    "        result_data[entry.key][type_value]=percentage"
   ]
  },
  {
   "cell_type": "code",
   "execution_count": 18,
   "metadata": {},
   "outputs": [
    {
     "name": "stdout",
     "output_type": "stream",
     "text": [
      "┏━━━━━━━━━━━━━━━━┳━━━━━━━━┳━━━━━━━━━━━━━━━━━┳━━━━━━━━━━━━━┳━━━━━━━━━━━━┳━━━━━━━┳━━━━━━━━━━┓\n",
      "┃                ┃ NONE   ┃ EMAIL_ADDRESS   ┃ DATE_TIME   ┃ LOCATION   ┃ NRP   ┃ PERSON   ┃\n",
      "┣━━━━━━━━━━━━━━━━╋━━━━━━━━╋━━━━━━━━━━━━━━━━━╋━━━━━━━━━━━━━╋━━━━━━━━━━━━╋━━━━━━━╋━━━━━━━━━━┫\n",
      "┃ order_number   ┃ 100%   ┃ 0%              ┃ 0%          ┃ 0%         ┃ 0%    ┃ 0%       ┃\n",
      "┃ user_id        ┃ 63%    ┃ 0%              ┃ 1%          ┃ 11%        ┃ 0%    ┃ 25%      ┃\n",
      "┃ email          ┃ 0%     ┃ 100%            ┃ 0%          ┃ 0%         ┃ 0%    ┃ 0%       ┃\n",
      "┃ street_address ┃ 48%    ┃ 0%              ┃ 3%          ┃ 6%         ┃ 1%    ┃ 42%      ┃\n",
      "┃ city           ┃ 47%    ┃ 0%              ┃ 0%          ┃ 26%        ┃ 9%    ┃ 18%      ┃\n",
      "┃ state          ┃ 0%     ┃ 0%              ┃ 0%          ┃ 100%       ┃ 0%    ┃ 0%       ┃\n",
      "┃ num_items      ┃ 100%   ┃ 0%              ┃ 0%          ┃ 0%         ┃ 0%    ┃ 0%       ┃\n",
      "┃ total_price    ┃ 100%   ┃ 0%              ┃ 0%          ┃ 0%         ┃ 0%    ┃ 0%       ┃\n",
      "┃ timestamp      ┃ 0%     ┃ 0%              ┃ 100%        ┃ 0%         ┃ 0%    ┃ 0%       ┃\n",
      "┗━━━━━━━━━━━━━━━━┻━━━━━━━━┻━━━━━━━━━━━━━━━━━┻━━━━━━━━━━━━━┻━━━━━━━━━━━━┻━━━━━━━┻━━━━━━━━━━┛\n"
     ]
    }
   ],
   "source": [
    "from tabulate import tabulate\n",
    "\n",
    "def generate_table(data):\n",
    "    # Extract unique categories\n",
    "    categories = set(category for values in data.values() for category in values.keys())\n",
    "    \n",
    "    # Initialize table with headers\n",
    "    table = [[''] + list(categories)]\n",
    "    \n",
    "    # Populate table rows\n",
    "    for key, value in data.items():\n",
    "        row = [key]\n",
    "        for category in categories:\n",
    "            percentage = value.get(category, 0.0)\n",
    "            row.append(f\"{percentage:.0f}%\")\n",
    "        table.append(row)\n",
    "    \n",
    "    return table\n",
    "\n",
    "table = generate_table(result_data)\n",
    "print(tabulate(table, headers=\"firstrow\",tablefmt=\"heavy_outline\"))\n"
   ]
  }
 ],
 "metadata": {
  "kernelspec": {
   "display_name": ".venv",
   "language": "python",
   "name": "python3"
  },
  "language_info": {
   "codemirror_mode": {
    "name": "ipython",
    "version": 3
   },
   "file_extension": ".py",
   "mimetype": "text/x-python",
   "name": "python",
   "nbconvert_exporter": "python",
   "pygments_lexer": "ipython3",
   "version": "3.9.6"
  }
 },
 "nbformat": 4,
 "nbformat_minor": 2
}
